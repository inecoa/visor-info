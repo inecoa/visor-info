{
 "cells": [
  {
   "cell_type": "code",
   "execution_count": 1,
   "metadata": {},
   "outputs": [],
   "source": [
    "import pandas as pd"
   ]
  },
  {
   "cell_type": "code",
   "execution_count": 2,
   "metadata": {},
   "outputs": [],
   "source": [
    "from pandas import DataFrame"
   ]
  },
  {
   "cell_type": "code",
   "execution_count": 3,
   "metadata": {},
   "outputs": [],
   "source": [
    "puntos = pd.read_excel('BIOTA-VERTEBRADOS.xlsx')"
   ]
  },
  {
   "cell_type": "code",
   "execution_count": 4,
   "metadata": {},
   "outputs": [
    {
     "name": "stdout",
     "output_type": "stream",
     "text": [
      "['ORDEN', 'CATEGORIA', 'SUBCATEGORIA', 'ECORREGION', 'ID', 'TITULO', 'DESCRIPCION', 'INSTITUCION', 'FUENTE', 'URL', 'LONGITUD', 'LATITUD', 'ALTURA']\n"
     ]
    }
   ],
   "source": [
    "print(list(puntos.columns.values))"
   ]
  },
  {
   "cell_type": "code",
   "execution_count": 5,
   "metadata": {},
   "outputs": [],
   "source": [
    "puntos.columns = ['ORDEN', 'CATEGORIA', 'SUBCATEGORIA', 'ECORREGION', 'ID', 'TITULO', 'DESCRIPCION', 'INSTITUCION', 'FUENTE', 'URL', 'LONGITUD', 'LATITUD', 'ALTURA']\n"
   ]
  },
  {
   "cell_type": "code",
   "execution_count": 6,
   "metadata": {},
   "outputs": [],
   "source": [
    "##json_inicio = '{\"type\":\"FeatureCollection\", \"features\":['\n",
    "parte01 = '{\"type\":\"Feature\",\"geometry\":{\"type\":\"Point\",\"coordinates\":['\n",
    "texto_punto = parte01 + puntos['LONGITUD'].map(str) + ',' + puntos['LATITUD'].map(str) +']},\"properties\":{\"id\":'\n",
    "texto_prop01 = puntos['ORDEN'].map(str) + ',\"punto\":\"' + puntos['ID'].map(str) + '\",\"titulo\":\"' + puntos['TITULO'] + '\",\"descripcion\":\"' + puntos['DESCRIPCION'] + '\",'\n",
    "texto_prop02 = '\"institucion\":\"' + puntos['INSTITUCION'] + '\",\"ecorregion\":\"' + puntos['ECORREGION'] + '\",\"fuente\":\"' + puntos['FUENTE'] + '\",'\n",
    "texto_prop03 = '\"altura\":\"' + puntos['ALTURA'].map(str) + ' msnm\",\"url\":\"' + puntos['URL'] + '\"}},'\n",
    "#json_final = ']}'"
   ]
  },
  {
   "cell_type": "code",
   "execution_count": 7,
   "metadata": {},
   "outputs": [],
   "source": [
    "texto_json = texto_punto + texto_prop01 + texto_prop02 + texto_prop03"
   ]
  },
  {
   "cell_type": "code",
   "execution_count": 8,
   "metadata": {},
   "outputs": [
    {
     "name": "stdout",
     "output_type": "stream",
     "text": [
      "0      {\"type\":\"Feature\",\"geometry\":{\"type\":\"Point\",\"...\n",
      "1      {\"type\":\"Feature\",\"geometry\":{\"type\":\"Point\",\"...\n",
      "2      {\"type\":\"Feature\",\"geometry\":{\"type\":\"Point\",\"...\n",
      "3      {\"type\":\"Feature\",\"geometry\":{\"type\":\"Point\",\"...\n",
      "4      {\"type\":\"Feature\",\"geometry\":{\"type\":\"Point\",\"...\n",
      "                             ...                        \n",
      "231    {\"type\":\"Feature\",\"geometry\":{\"type\":\"Point\",\"...\n",
      "232    {\"type\":\"Feature\",\"geometry\":{\"type\":\"Point\",\"...\n",
      "233    {\"type\":\"Feature\",\"geometry\":{\"type\":\"Point\",\"...\n",
      "234    {\"type\":\"Feature\",\"geometry\":{\"type\":\"Point\",\"...\n",
      "235    {\"type\":\"Feature\",\"geometry\":{\"type\":\"Point\",\"...\n",
      "Length: 236, dtype: object\n"
     ]
    }
   ],
   "source": [
    "print(texto_json)"
   ]
  },
  {
   "cell_type": "code",
   "execution_count": 9,
   "metadata": {},
   "outputs": [
    {
     "name": "stdout",
     "output_type": "stream",
     "text": [
      "{\"type\":\"Feature\",\"geometry\":{\"type\":\"Point\",\"coordinates\":[-66.51467,-24.013560000000002]},\"properties\":{\"id\":1,\"punto\":\"1017\",\"titulo\":\"MICROMAMIFEROS NO VOLADORES\",\"descripcion\":\"RELEVAMIENTO Y ESTUDIO DE LA ESPECIE EN SU HABITAT\",\"institucion\":\"UNIVERSIDAD NACIONAL DE TUCUMAN (UNT)\",\"ecorregion\":\"ALTOS ANDES\",\"fuente\":\"MUSEO ARGENTINO DE CIENCIAS NATURALES BERNARDINO RIVADAVIA\",\"altura\":\"4168 msnm\",\"url\":\"https://inecoa-unju.conicet.gov.ar\"}},\n"
     ]
    }
   ],
   "source": [
    "print(texto_json[0])"
   ]
  },
  {
   "cell_type": "code",
   "execution_count": 10,
   "metadata": {},
   "outputs": [
    {
     "name": "stdout",
     "output_type": "stream",
     "text": [
      "{\"type\":\"Feature\",\"geometry\":{\"type\":\"Point\",\"coordinates\":[-65.29862,-23.665429999999997]},\"properties\":{\"id\":2,\"punto\":\"1018\",\"titulo\":\"MICROMAMIFEROS NO VOLADORES\",\"descripcion\":\"RELEVAMIENTO Y ESTUDIO DE LA ESPECIE EN SU HABITAT\",\"institucion\":\"UNIVERSIDAD NACIONAL DE TUCUMAN (UNT)\",\"ecorregion\":\"ALTOS ANDES\",\"fuente\":\"COLECCION MAMIFEROS FUNDACION MIGUEL LILLO\",\"altura\":\"4101 msnm\",\"url\":\"https://inecoa-unju.conicet.gov.ar\"}},\n"
     ]
    }
   ],
   "source": [
    "print(texto_json[1])"
   ]
  },
  {
   "cell_type": "code",
   "execution_count": 11,
   "metadata": {},
   "outputs": [
    {
     "name": "stdout",
     "output_type": "stream",
     "text": [
      "{\"type\":\"Feature\",\"geometry\":{\"type\":\"Point\",\"coordinates\":[-65.33548,-23.6628]},\"properties\":{\"id\":3,\"punto\":\"1019\",\"titulo\":\"MICROMAMIFEROS NO VOLADORES\",\"descripcion\":\"RELEVAMIENTO Y ESTUDIO DE LA ESPECIE EN SU HABITAT\",\"institucion\":\"UNIVERSIDAD NACIONAL DE TUCUMAN (UNT)\",\"ecorregion\":\"ALTOS ANDES\",\"fuente\":\"COLECCION MAMIFEROS FUNDACION MIGUEL LILLO\",\"altura\":\"4214 msnm\",\"url\":\"https://inecoa-unju.conicet.gov.ar\"}},\n"
     ]
    }
   ],
   "source": [
    "print(texto_json[2])"
   ]
  },
  {
   "cell_type": "code",
   "execution_count": 12,
   "metadata": {},
   "outputs": [
    {
     "name": "stdout",
     "output_type": "stream",
     "text": [
      "{\"type\":\"Feature\",\"geometry\":{\"type\":\"Point\",\"coordinates\":[-65.32802,-23.6584]},\"properties\":{\"id\":4,\"punto\":\"1020\",\"titulo\":\"MICROMAMIFEROS NO VOLADORES\",\"descripcion\":\"RELEVAMIENTO Y ESTUDIO DE LA ESPECIE EN SU HABITAT\",\"institucion\":\"UNIVERSIDAD NACIONAL DE TUCUMAN (UNT)\",\"ecorregion\":\"ALTOS ANDES\",\"fuente\":\"COLECCION MAMIFEROS FUNDACION MIGUEL LILLO\",\"altura\":\"4273 msnm\",\"url\":\"https://inecoa-unju.conicet.gov.ar\"}},\n"
     ]
    }
   ],
   "source": [
    "print(texto_json[3])"
   ]
  },
  {
   "cell_type": "code",
   "execution_count": null,
   "metadata": {},
   "outputs": [],
   "source": []
  }
 ],
 "metadata": {
  "kernelspec": {
   "display_name": "Python 3",
   "language": "python",
   "name": "python3"
  },
  "language_info": {
   "codemirror_mode": {
    "name": "ipython",
    "version": 3
   },
   "file_extension": ".py",
   "mimetype": "text/x-python",
   "name": "python",
   "nbconvert_exporter": "python",
   "pygments_lexer": "ipython3",
   "version": "3.7.3"
  }
 },
 "nbformat": 4,
 "nbformat_minor": 4
}
